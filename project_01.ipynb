{
 "cells": [
  {
   "cell_type": "markdown",
   "id": "3a8134d4-af5f-4cd8-af61-ab9c86de1ced",
   "metadata": {},
   "source": [
    "### IMPORTING LIBRARIES"
   ]
  },
  {
   "cell_type": "code",
   "execution_count": 404,
   "id": "1285d820-2016-405e-b29e-4957fd0ff372",
   "metadata": {
    "tags": []
   },
   "outputs": [],
   "source": [
    "import pandas as pd"
   ]
  },
  {
   "cell_type": "markdown",
   "id": "f12d1ab0-bd8f-4c04-b9fb-ffb2922427cc",
   "metadata": {},
   "source": [
    "### MAIN DATASET OF ENERGY IMPORTATIONS AND EXPORTATIONS PER CANADIAN PROVINCE"
   ]
  },
  {
   "cell_type": "code",
   "execution_count": 395,
   "id": "3b06bceb-92c7-4659-990f-d5d21e4b73e4",
   "metadata": {},
   "outputs": [],
   "source": [
    "# Getting the monthly energy importations and exportations dataset\n",
    "path_monthly = 'C:\\\\Users\\\\felip\\\\JupyterLab Projects\\\\Analytics Tools and Decision Making\\\\electricity-exports\\\\electricity-exports-and-imports-monthly.csv'\n",
    "df = pd.read_csv(path_monthly, sep=',', encoding='ISO-8859-1')\n",
    "\n",
    "# Taking off the \"Total\" rows (represents the summation of all energy exported or imported in all provinces in the month)\n",
    "df = df[df['Source'] != 'Total']\n",
    "df = df[df['Destination'] != 'Total']"
   ]
  },
  {
   "cell_type": "markdown",
   "id": "735b8ad5-5e2b-4c76-bfeb-33d6ff3b90d0",
   "metadata": {},
   "source": [
    "### ADDING PRIME MINISTERS"
   ]
  },
  {
   "cell_type": "code",
   "execution_count": 395,
   "id": "89c64b70-0794-4aa7-a923-c0a8bab52fdc",
   "metadata": {},
   "outputs": [],
   "source": [
    "# Loading the xlsx file with prime ministers mandate\n",
    "pm = pd.read_excel(r\"C:\\Users\\felip\\OneDrive\\Documentos\\ST CLAIR COLLEGE\\First Semester\\ANALYTI TOOLS & DECISN MAKING\\Project 1\\canada_prime_ministers.xlsx\")\n",
    "\n",
    "# Replacing the sign \"_x000D_\\n\" in the dataframe\n",
    "pm = pm.replace('_x000D_\\n', ' ', regex=True)\n",
    "pm = pm.rename(columns=lambda x: x.replace('_x000D_\\n', ' '))\n",
    "\n",
    "# Droping duplicates (each prime minister name was appearing twice)\n",
    "pm.drop_duplicates(subset=['Name (Birth–Death)'], keep='first', inplace=True)\n",
    "\n",
    "# Droping useless columns and reseting index\n",
    "pm.drop('No.', axis=1, inplace=True)\n",
    "pm.reset_index(inplace=True, drop=True)\n",
    "\n",
    "# Creating the \"begin\" and \"end\" columns referent to each prime minister mandate\n",
    "pm['begin'] = pd.to_datetime(pm['Term of office'], format='%d %B %Y', errors='coerce')\n",
    "pm['end'] = pd.to_datetime(pm['Term of office_1'], format='%d %B %Y', errors='coerce')\n",
    "\n",
    "# Droping useless columns again\n",
    "pm.drop(['Term of office', 'Term of office_1', 'Electoral mandates (Assembly)', 'Political party'], axis=1, inplace=True)\n",
    "\n",
    "# Adding the last day of the dataset analysed (it was empty before)\n",
    "pm.loc[22,'end'] = pd.datetime(2022, 12, 31)\n",
    "\n",
    "# This \"pm\" (prime ministers) final dataset was used to assign the current prime minister and political party for each row of the first dataset \"monthly\",\n",
    "# the process was made with MS Excel"
   ]
  },
  {
   "cell_type": "code",
   "execution_count": 395,
   "id": "94595c07-e244-4e38-8e2d-8de4e7e82bdc",
   "metadata": {},
   "outputs": [],
   "source": []
  },
  {
   "cell_type": "markdown",
   "id": "819bc9b7-7aa2-40c7-bd33-eb6182e6b1e6",
   "metadata": {},
   "source": [
    "### ADDING POPULATION OF EACH PROVINCE"
   ]
  },
  {
   "cell_type": "code",
   "execution_count": 395,
   "id": "20c4a5f4-e5a4-447f-ab90-a79f80a9f146",
   "metadata": {},
   "outputs": [],
   "source": [
    "# Loading the csv file with population per Canadian Province\n",
    "pop = pd.read_csv(r\"C:\\Users\\felip\\JupyterLab Projects\\Analytics Tools and Decision Making\\population_per_province.csv\", sep=',')\n",
    "\n",
    "# The initial dataset had the population per quarter, but we decided to get the population per year, so we left only the fourth quarter pop.\n",
    "rows_off = pop[pop['Geography'].str.startswith(('Q1', 'Q2', 'Q3'))].index\n",
    "pop.drop(rows_off, inplace=True)\n",
    "\n",
    "# Removing the \"Q4 \" in front of the year, leaving just the year in each row \n",
    "pop['Geography'] = pop['Geography'].apply(lambda x: x[3:])\n",
    "\n",
    "# Standardizing the name of the columns to match the main dataset, reseting index and seting 'Year' as index\n",
    "pop.columns = ['Year', 'Canada', 'Newfoundland and Labrador', 'Prince Edward Island',\n",
    "       'Nova Scotia', 'New Brunswick', 'Québec', 'Ontario', 'Manitoba',\n",
    "       'Saskatchewan', 'Alberta', 'British Columbia', 'Yukon',\n",
    "       'Northwest Territories', 'Nunavut']\n",
    "pop.reset_index(drop=True, inplace=True)\n",
    "pop.set_index('Year', inplace=True)\n",
    "\n",
    "# Creating the 'Year' column through the date of each row\n",
    "df['Year'] = df['Period'].apply(lambda x: x[-4:])\n",
    "\n",
    "# Separating the main dataset in exportations and exportations\n",
    "df_exp = df[df['Activity'] == 'Exports']\n",
    "df_imp = df[df['Activity'] == 'Imports']\n",
    "\n",
    "# Creating the 'Province Pop' with the population of each Province that is either importing or exporting energy, using the pop dataframe\n",
    "df_exp.loc[:, 'Province Pop'] = df_exp.apply(lambda x: pop.loc[x['Year'], x['Source']], axis=1)\n",
    "df_imp.loc[:, 'Province Pop'] = df_imp.apply(lambda x: pop.loc[x['Year'], x['Destination']], axis=1)\n",
    "\n",
    "# Concatenating both dataframes into one again\n",
    "df = pd.concat([df_exp, df_imp], axis=0)"
   ]
  },
  {
   "cell_type": "markdown",
   "id": "97e74592-3b18-407d-9c8c-034878513816",
   "metadata": {},
   "source": [
    "### ADDING NUMBER OF POWER PLANTS PER PROVINCE"
   ]
  },
  {
   "cell_type": "code",
   "execution_count": 395,
   "id": "2cbb9a6e-401f-46c3-88d3-a301c114dc89",
   "metadata": {},
   "outputs": [],
   "source": [
    "# Loading the csv file with number of power plants per Canadian Province\n",
    "pp = pd.read_csv(r\"C:\\Users\\felip\\OneDrive\\Documentos\\ST CLAIR COLLEGE\\First Semester\\ANALYTI TOOLS & DECISN MAKING\\Project 1\\power_plants.csv\")\n",
    "\n",
    "# Creating a list with all the years analysed\n",
    "lista = []\n",
    "for x in range(1990,2023):\n",
    "    lista.append(x)\n",
    "\n",
    "# Creating a dictionary with years and respective amount of power plants per province\n",
    "dic = {'Year':lista}\n",
    "\n",
    "# For loop to iterate through all the province names and create separate dataframes\n",
    "for province in pp['Province'].unique():\n",
    "    lista_pp = []\n",
    "    filtro = pp[pp['Province'] == province]\n",
    "    # For loop to iterate through the years analyzed and check how many power plants there were in the province in that year\n",
    "    for ano in lista:\n",
    "        lista_pp.append(filtro[filtro['Startup'] < ano].count()['Startup'])\n",
    "    # Adding the list of number of power plants per year to the dictionary\n",
    "    dic[province] = lista_pp\n",
    "\n",
    "# Using the dictionary to create the dataframe\n",
    "pp_per_year = pd.DataFrame(dic).set_index('Year')\n",
    "\n",
    "# Standardizing the name of the columns to match the main dataset and reseting index\n",
    "pp_per_year.columns = ['Ontario', 'Québec', 'Newfoundland and Labrador', 'British Columbia',\n",
    "       'Alberta', 'Manitoba', 'New Brunswick', 'Saskatchewan', 'Nova Scotia']\n",
    "pp_per_year.index = pp_per_year.index.astype(str)\n",
    "\n",
    "# Creating the 'Province Power Plants' with the number of power plants in the province that is either importing or exporting\n",
    "# energy, using the pp_per_year dataframe\n",
    "df_exp.loc[:, 'Province Power Plants'] = df_exp.apply(lambda x: pp_per_year.loc[x['Year'], x['Source']], axis=1)\n",
    "df_imp.loc[:, 'Province Power Plants'] = df_imp.apply(lambda x: pp_per_year.loc[x['Year'], x['Destination']], axis=1)\n",
    "\n",
    "# Concatenating both dataframes into one again\n",
    "df = pd.concat([df_exp, df_imp], axis=0)"
   ]
  },
  {
   "cell_type": "markdown",
   "id": "86183290-c46c-400e-a393-1328b03b0d6b",
   "metadata": {},
   "source": [
    "### ADDING THE GDP PER PROVINCE"
   ]
  },
  {
   "cell_type": "code",
   "execution_count": 395,
   "id": "6eb4d9e3-a008-4dcf-b31b-e5f127944076",
   "metadata": {},
   "outputs": [],
   "source": [
    "# Loading the csv file with the GDP per Canadian Province\n",
    "gdp = pd.read_csv(r\"C:\\Users\\felip\\OneDrive\\Documentos\\ST CLAIR COLLEGE\\First Semester\\ANALYTI TOOLS & DECISN MAKING\\Project 1\\gdp from 1990.csv\", index_col=0)\n",
    "\n",
    "# Setting 'Year' as the index name\n",
    "gdp.index.name = 'Year'\n",
    "\n",
    "# Standardizing the name of the columns to match the main dataset\n",
    "gdp.columns = ['Newfoundland and Labrador', 'Prince Edward Island', 'Nova Scotia',\n",
    "       'New Brunswick', 'Québec', 'Ontario', 'Manitoba', 'Saskatchewan',\n",
    "       'Alberta', 'British Columbia', 'Yukon', 'Northwest Territories', 'Nunavut']\n",
    "\n",
    "# Setting the index type as string\n",
    "gdp.index = gdp.index.astype(str)\n",
    "\n",
    "# Using the gdp of 2021 to 2022 (We didn't find the 2022 GDP in the dataset)\n",
    "gdp.loc['2022',] = gdp.loc['2021',]\n",
    "\n",
    "# Creating the 'Province GDP' with the GDP of each Province that is either importing or exporting energy, using the gdp dataframe\n",
    "df_exp.loc[:, 'Province GDP'] = df_exp.apply(lambda x: gdp.loc[x['Year'], x['Source']], axis=1)\n",
    "df_imp.loc[:, 'Province GDP'] = df_imp.apply(lambda x: gdp.loc[x['Year'], x['Destination']], axis=1)\n",
    "\n",
    "# Concatenating both dataframes into one again, and reseting index of the main dataframe\n",
    "df = pd.concat([df_exp, df_imp], axis=0)\n",
    "df.reset_index(drop=True, inplace=True)"
   ]
  }
 ],
 "metadata": {
  "kernelspec": {
   "display_name": "Python 3 (ipykernel)",
   "language": "python",
   "name": "python3"
  },
  "language_info": {
   "codemirror_mode": {
    "name": "ipython",
    "version": 3
   },
   "file_extension": ".py",
   "mimetype": "text/x-python",
   "name": "python",
   "nbconvert_exporter": "python",
   "pygments_lexer": "ipython3",
   "version": "3.9.13"
  }
 },
 "nbformat": 4,
 "nbformat_minor": 5
}
